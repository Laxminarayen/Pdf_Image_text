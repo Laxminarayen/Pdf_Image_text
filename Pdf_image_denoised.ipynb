{
 "cells": [
  {
   "cell_type": "code",
   "execution_count": 92,
   "metadata": {},
   "outputs": [],
   "source": [
    "import numpy as np\n",
    "from scipy import signal\n",
    "from PIL import Image\n",
    "import cv2\n",
    "import pdf2image\n",
    "from pdf2image import convert_from_path, convert_from_bytes"
   ]
  },
  {
   "cell_type": "code",
   "execution_count": null,
   "metadata": {},
   "outputs": [],
   "source": [
    "images = convert_from_path(r'E:\\DataSet_BYOB Challenge 1 & 3\\02477719.pdf',output_folder = r\"E:\\image_pdf_python\",fmt ='png')"
   ]
  },
  {
   "cell_type": "code",
   "execution_count": 93,
   "metadata": {},
   "outputs": [],
   "source": [
    "def load_image(path):\n",
    "    return np.asarray(Image.open(path))/255.0"
   ]
  },
  {
   "cell_type": "code",
   "execution_count": 94,
   "metadata": {},
   "outputs": [],
   "source": [
    "def save(path, img):\n",
    "    tmp = np.asarray(img*255.0, dtype=np.uint8)\n",
    "    Image.fromarray(tmp).save(path)"
   ]
  },
  {
   "cell_type": "code",
   "execution_count": 96,
   "metadata": {},
   "outputs": [],
   "source": [
    "def denoise_image(inp):\n",
    "    # estimate 'background' color by a median filter\n",
    "    bg = signal.medfilt2d(inp, 11)\n",
    "    save('background.png', bg)\n",
    "\n",
    "    # compute 'foreground' mask as anything that is significantly darker than\n",
    "    # the background\n",
    "    mask = inp < bg - 0.1\n",
    "    save('foreground_mask.png', mask)\n",
    "\n",
    "    # return the input value for all pixels in the mask or pure white otherwise\n",
    "    return np.where(mask, inp, 1.0)"
   ]
  },
  {
   "cell_type": "code",
   "execution_count": 97,
   "metadata": {},
   "outputs": [],
   "source": [
    "Images = '9.png'\n",
    "out_path = 'output5.png'\n",
    "\n",
    "inp = cv2.imread(inp_path,0)\n",
    "out = denoise_image(inp)\n",
    "\n",
    "save(out_path, out)"
   ]
  },
  {
   "cell_type": "code",
   "execution_count": 68,
   "metadata": {
    "collapsed": true
   },
   "outputs": [
    {
     "name": "stdout",
     "output_type": "stream",
     "text": [
      "E:\\image_pdf_python\\47fd52bb-5159-4dd3-9dc9-69a6e31dee21-1.png\n",
      "E:\\image_pdf_python\\47fd52bb-5159-4dd3-9dc9-69a6e31dee21-2.png\n",
      "E:\\image_pdf_python\\47fd52bb-5159-4dd3-9dc9-69a6e31dee21-3.png\n",
      "E:\\image_pdf_python\\47fd52bb-5159-4dd3-9dc9-69a6e31dee21-4.png\n",
      "E:\\image_pdf_python\\47fd52bb-5159-4dd3-9dc9-69a6e31dee21-5.png\n",
      "E:\\image_pdf_python\\47fd52bb-5159-4dd3-9dc9-69a6e31dee21-6.png\n",
      "E:\\image_pdf_python\\47fd52bb-5159-4dd3-9dc9-69a6e31dee21-7.png\n"
     ]
    }
   ],
   "source": [
    "import pathlib\n",
    "\n",
    "# define the path\n",
    "currentDirectory = pathlib.Path(r'E:\\image_pdf_python\\.')\n",
    "outpath = r'E:\\Output'\n",
    "for currentFile in currentDirectory.iterdir():  \n",
    "    print(currentFile)\n",
    "    Temp = str(currentFile)"
   ]
  },
  {
   "cell_type": "code",
   "execution_count": 84,
   "metadata": {},
   "outputs": [],
   "source": [
    "import os\n",
    "from os import path\n",
    "files = [f for f in os.listdir(r'E:\\image_pdf_python')]"
   ]
  },
  {
   "cell_type": "code",
   "execution_count": 85,
   "metadata": {},
   "outputs": [
    {
     "data": {
      "text/plain": [
       "['47fd52bb-5159-4dd3-9dc9-69a6e31dee21-1.png',\n",
       " '47fd52bb-5159-4dd3-9dc9-69a6e31dee21-2.png',\n",
       " '47fd52bb-5159-4dd3-9dc9-69a6e31dee21-3.png',\n",
       " '47fd52bb-5159-4dd3-9dc9-69a6e31dee21-4.png',\n",
       " '47fd52bb-5159-4dd3-9dc9-69a6e31dee21-5.png',\n",
       " '47fd52bb-5159-4dd3-9dc9-69a6e31dee21-6.png',\n",
       " '47fd52bb-5159-4dd3-9dc9-69a6e31dee21-7.png']"
      ]
     },
     "execution_count": 85,
     "metadata": {},
     "output_type": "execute_result"
    }
   ],
   "source": [
    "files"
   ]
  },
  {
   "cell_type": "code",
   "execution_count": 98,
   "metadata": {},
   "outputs": [],
   "source": [
    "for i in files:\n",
    "    temp = os.path.join(r'E:\\image_pdf_python',i)\n",
    "    out_path = os.path.join(r'E:\\Output',i)\n",
    "\n",
    "    inp = cv2.imread(temp,0)\n",
    "    out = denoise_image(inp)\n",
    "\n",
    "    save(out_path, out)"
   ]
  },
  {
   "cell_type": "code",
   "execution_count": 87,
   "metadata": {},
   "outputs": [],
   "source": [
    "#temp = os.path.join(r'E:\\image_pdf_python',files[0])\n",
    "#temp"
   ]
  },
  {
   "cell_type": "code",
   "execution_count": 99,
   "metadata": {},
   "outputs": [],
   "source": [
    "import pytesseract"
   ]
  },
  {
   "cell_type": "code",
   "execution_count": 107,
   "metadata": {
    "collapsed": true
   },
   "outputs": [
    {
     "ename": "ImportError",
     "evalue": "No module named 'Image'",
     "output_type": "error",
     "traceback": [
      "\u001b[1;31m---------------------------------------------------------------------------\u001b[0m",
      "\u001b[1;31mImportError\u001b[0m                               Traceback (most recent call last)",
      "\u001b[1;32m<ipython-input-107-088ebaec33f5>\u001b[0m in \u001b[0;36m<module>\u001b[1;34m\u001b[0m\n\u001b[1;32m----> 1\u001b[1;33m \u001b[1;32mimport\u001b[0m \u001b[0mImage\u001b[0m\u001b[1;33m\u001b[0m\u001b[0m\n\u001b[0m\u001b[0;32m      2\u001b[0m \u001b[1;32mfrom\u001b[0m \u001b[0mtesseract\u001b[0m \u001b[1;32mimport\u001b[0m \u001b[0mimage_to_string\u001b[0m\u001b[1;33m\u001b[0m\u001b[0m\n",
      "\u001b[1;31mImportError\u001b[0m: No module named 'Image'"
     ]
    }
   ],
   "source": [
    "import Image\n",
    "from tesseract import image_to_string"
   ]
  },
  {
   "cell_type": "code",
   "execution_count": 106,
   "metadata": {
    "collapsed": true
   },
   "outputs": [
    {
     "name": "stdout",
     "output_type": "stream",
     "text": [
      "Requirement already satisfied: Image in c:\\users\\aadhi\\anaconda3\\lib\\site-packages\n",
      "Requirement already satisfied: django in c:\\users\\aadhi\\anaconda3\\lib\\site-packages (from Image)\n",
      "Requirement already satisfied: pillow in c:\\users\\aadhi\\anaconda3\\lib\\site-packages (from Image)\n",
      "Requirement already satisfied: pytz in c:\\users\\aadhi\\anaconda3\\lib\\site-packages (from django->Image)\n",
      "Requirement already satisfied: olefile in c:\\users\\aadhi\\anaconda3\\lib\\site-packages (from pillow->Image)\n"
     ]
    },
    {
     "name": "stderr",
     "output_type": "stream",
     "text": [
      "You are using pip version 9.0.3, however version 18.1 is available.\n",
      "You should consider upgrading via the 'python -m pip install --upgrade pip' command.\n"
     ]
    }
   ],
   "source": [
    "!pip install Image"
   ]
  }
 ],
 "metadata": {
  "kernelspec": {
   "display_name": "Python 3.5.1",
   "language": "python",
   "name": "pyth-35"
  },
  "language_info": {
   "codemirror_mode": {
    "name": "ipython",
    "version": 3
   },
   "file_extension": ".py",
   "mimetype": "text/x-python",
   "name": "python",
   "nbconvert_exporter": "python",
   "pygments_lexer": "ipython3",
   "version": "3.5.1"
  }
 },
 "nbformat": 4,
 "nbformat_minor": 2
}
